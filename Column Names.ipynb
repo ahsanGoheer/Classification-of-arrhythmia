{
 "cells": [
  {
   "cell_type": "code",
   "execution_count": 7,
   "metadata": {},
   "outputs": [],
   "source": [
    "columns=['Q_AVF','R_AVF','S_AVF','R\\'_AVF','S\\'_AVF','NOD_AVF','EOR_R_AVF','EOD_R_AVF','EOR_P_AVF','EOD_P_AVF','EOR_T_AVF','EOD_T_AVF'\n",
    "'Q_AVF''R_AVF','S_AVF','R\\'_AVF','S\\'_AVF','NOD_AVF','EOR_R_AVF','EOD_R_AVF','EOR_P_AVF','EOD_P_AVF','EOR_T_AVF','EOD_T_AVF'\n",
    "]\n"
   ]
  },
  {
   "cell_type": "code",
   "execution_count": 8,
   "metadata": {},
   "outputs": [
    {
     "data": {
      "text/plain": [
       "['Q_AVF',\n",
       " 'R_AVF',\n",
       " 'S_AVF',\n",
       " \"R'_AVF\",\n",
       " \"S'_AVF\",\n",
       " 'NOD_AVF',\n",
       " 'EOR_R_AVF',\n",
       " 'EOD_R_AVF',\n",
       " 'EOR_P_AVF',\n",
       " 'EOD_P_AVF',\n",
       " 'EOR_T_AVF',\n",
       " 'EOD_T_AVFQ_AVFR_AVF',\n",
       " 'S_AVF',\n",
       " \"R'_AVF\",\n",
       " \"S'_AVF\",\n",
       " 'NOD_AVF',\n",
       " 'EOR_R_AVF',\n",
       " 'EOD_R_AVF',\n",
       " 'EOR_P_AVF',\n",
       " 'EOD_P_AVF',\n",
       " 'EOR_T_AVF',\n",
       " 'EOD_T_AVF']"
      ]
     },
     "execution_count": 8,
     "metadata": {},
     "output_type": "execute_result"
    }
   ],
   "source": [
    "for j in ['V1','V2','V3','V4','V5','V6']:\n",
    "for i in columns:\n",
    "    i.replace('AVR')"
   ]
  },
  {
   "cell_type": "code",
   "execution_count": 4,
   "metadata": {},
   "outputs": [
    {
     "data": {
      "text/plain": [
       "['1 Age: Age in years , linear',\n",
       " '2 Sex: Sex (0 = male; 1 = female) , nominal',\n",
       " '3 Height: Height in centimeters , linear',\n",
       " '4 Weight: Weight in kilograms , linear',\n",
       " '5 QRS duration: Average of QRS duration in msec., linear',\n",
       " '6 P-R interval: Average duration between onset of P and Q waves in msec., linear',\n",
       " '7 Q-T interval: Average duration between onset of Q and offset of T waves in msec., linear',\n",
       " '8 T interval: Average duration of T wave in msec., linear',\n",
       " '9 P interval: Average duration of P wave in msec., linear',\n",
       " '10 QRS',\n",
       " '11 T',\n",
       " '12 P',\n",
       " '13 QRST',\n",
       " '14 J',\n",
       " '',\n",
       " '15 Heart rate: Number of heart beats per minute ,linear',\n",
       " '',\n",
       " 'Of channel DI:',\n",
       " 'Average width, in msec., of: linear',\n",
       " '16 Q wave',\n",
       " '17 R wave',\n",
       " '18 S wave',\n",
       " \"19 R' wave, small peak just after R\",\n",
       " \"20 S' wave\",\n",
       " '',\n",
       " '21 Number of intrinsic deflections, linear',\n",
       " '',\n",
       " '22 Existence of ragged R wave, nominal',\n",
       " '23 Existence of diphasic derivation of R wave, nominal',\n",
       " '24 Existence of ragged P wave, nominal',\n",
       " '25 Existence of diphasic derivation of P wave, nominal',\n",
       " '26 Existence of ragged T wave, nominal',\n",
       " '27 Existence of diphasic derivation of T wave, nominal',\n",
       " '',\n",
       " 'Of channel DII:',\n",
       " '28 .. 39 (similar to 16 .. 27 of channel DI)',\n",
       " 'Of channels DIII:',\n",
       " '40 .. 51',\n",
       " 'Of channel AVR:',\n",
       " '52 .. 63',\n",
       " 'Of channel AVL:',\n",
       " '64 .. 75',\n",
       " 'Of channel AVF:',\n",
       " '76 .. 87',\n",
       " 'Of channel V1:',\n",
       " '88 .. 99',\n",
       " 'Of channel V2:',\n",
       " '100 .. 111',\n",
       " 'Of channel V3:',\n",
       " '112 .. 123',\n",
       " 'Of channel V4:',\n",
       " '124 .. 135',\n",
       " 'Of channel V5:',\n",
       " '136 .. 147',\n",
       " 'Of channel V6:',\n",
       " '148 .. 159',\n",
       " '',\n",
       " 'Of channel DI:',\n",
       " 'Amplitude , * 0.1 milivolt, of',\n",
       " '160 JJ wave, linear',\n",
       " '161 Q wave, linear',\n",
       " '162 R wave, linear',\n",
       " '163 S wave, linear',\n",
       " \"164 R' wave, linear\",\n",
       " \"165 S' wave, linear\",\n",
       " '166 P wave, linear',\n",
       " '167 T wave, linear',\n",
       " '',\n",
       " '168 QRSA , Sum of areas of all segments divided by 10, ( Area= width * height / 2 ), linear',\n",
       " '169 QRSTA = QRSA + 0.5 * width of T wave * 0.1 * height of T wave. (If T is diphasic then the bigger segment is considered), linear',\n",
       " '',\n",
       " 'Of channel DII:',\n",
       " '170 .. 179',\n",
       " 'Of channel DIII:',\n",
       " '180 .. 189',\n",
       " 'Of channel AVR:',\n",
       " '190 .. 199',\n",
       " 'Of channel AVL:',\n",
       " '200 .. 209',\n",
       " 'Of channel AVF:',\n",
       " '210 .. 219',\n",
       " 'Of channel V1:',\n",
       " '220 .. 229',\n",
       " 'Of channel V2:',\n",
       " '230 .. 239',\n",
       " 'Of channel V3:',\n",
       " '240 .. 249',\n",
       " 'Of channel V4:',\n",
       " '250 .. 259',\n",
       " 'Of channel V5:',\n",
       " '260 .. 269',\n",
       " 'Of channel V6:',\n",
       " '270 .. 279',\n",
       " '']"
      ]
     },
     "execution_count": 4,
     "metadata": {},
     "output_type": "execute_result"
    }
   ],
   "source": [
    "for i in range(len(columns)):\n",
    "    columns[i]=columns[i].replace('\\n','')\n",
    "columns"
   ]
  },
  {
   "cell_type": "code",
   "execution_count": null,
   "metadata": {},
   "outputs": [],
   "source": []
  }
 ],
 "metadata": {
  "kernelspec": {
   "display_name": "Python 3",
   "language": "python",
   "name": "python3"
  },
  "language_info": {
   "codemirror_mode": {
    "name": "ipython",
    "version": 3
   },
   "file_extension": ".py",
   "mimetype": "text/x-python",
   "name": "python",
   "nbconvert_exporter": "python",
   "pygments_lexer": "ipython3",
   "version": "3.8.3"
  }
 },
 "nbformat": 4,
 "nbformat_minor": 4
}
