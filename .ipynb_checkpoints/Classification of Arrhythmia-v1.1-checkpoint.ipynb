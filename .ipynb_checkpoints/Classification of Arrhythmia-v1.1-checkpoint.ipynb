{
 "cells": [
  {
   "cell_type": "markdown",
   "metadata": {},
   "source": [
    "# Loading and Preprocessing Data"
   ]
  },
  {
   "cell_type": "code",
   "execution_count": 1,
   "metadata": {},
   "outputs": [
    {
     "data": {
      "text/plain": [
       "280"
      ]
     },
     "execution_count": 1,
     "metadata": {},
     "output_type": "execute_result"
    }
   ],
   "source": [
    "import pandas as pd\n",
    "import numpy as np\n",
    "arrhythmia_data=pd.read_csv('./arrhythmia.csv')\n",
    "column_names=['age','gender','height','weight','qrs_duration','p-r_Interval','q-t_interval','t_interval','p_interval','QRS','T','P','QRST','J','Heart rate','Q_D1','R_D1','S_D1','R\\'_D1','S\\'_D1','NOD_D1','EOR_R_D1','EOD_R_D1','EOR_P_D1','EOD_P_D1','EOR_T_D1','EOD_T_D1','Q_D2','R_D2','S_D2','R\\'_D2','S\\'_D2','NOD_D2','EOR_R_D2','EOD_R_D2','EOR_P_D2','EOD_P_D2','EOR_T_D2','EOD_T_D2','Q_D3','R_D3','S_D3','R\\'_D3','S\\'_D3','NOD_D3','EOR_R_D3','EOD_R_D3','EOR_P_D3','EOD_P_D3','EOR_T_D3','EOD_T_D3','Q_AVR','R_AVR','S_AVR','R\\'_AVR','S\\'_AVR','NOD_AVR','EOR_R_AVR','EOD_R_AVR','EOR_P_AVR','EOD_P_AVR','EOR_T_AVR','EOD_T_AVR','Q_AVL','R_AVL','S_AVL','R\\'_AVL','S\\'_AVL','NOD_AVL','EOR_R_AVL','EOD_R_AVL','EOR_P_AVL','EOD_P_AVL','EOR_T_AVL','EOD_T_AVL','Q_AVF','R_AVF','S_AVF','R\\'_AVF','S\\'_AVF','NOD_AVF','EOR_R_AVF','EOD_R_AVF','EOR_P_AVF','EOD_P_AVF','EOR_T_AVF','EOD_T_AVF','Q_V1','R_V1','S_V1','R\\'_V1','S\\'_V1','NOD_V1','EOR_R_V1','EOD_R_V1','EOR_P_V1','EOD_P_V1','EOR_T_V1','EOD_T_V1','Q_V2','R_V2','S_V2','R\\'_V2','S\\'_V2','NOD_V2','EOR_R_V2','EOD_R_V2','EOR_P_V2','EOD_P_V2','EOR_T_V2','EOD_T_V2','Q_V3','R_V3','S_V3','R\\'_V3','S\\'_V3','NOD_V3','EOR_R_V3','EOD_R_V3','EOR_P_V3','EOD_P_V3','EOR_T_V3','EOD_T_V3','Q_V4','R_V4','S_V4','R\\'_V4','S\\'_V4','NOD_V4','EOR_R_V4','EOD_R_V4','EOR_P_V4','EOD_P_V4','EOR_T_V4','EOD_T_V4','Q_V5','R_V5','S_V5','R\\'_V5','S\\'_V5','NOD_V5','EOR_R_V5','EOD_R_V5','EOR_P_V5','EOD_P_V5','EOR_T_V5','EOD_T_V5','Q_V6','R_V6','S_V6','R\\'_V6','S\\'_V6','NOD_V6','EOR_R_V6','EOD_R_V6','EOR_P_V6','EOD_P_V6','EOR_T_V6','EOD_T_V6','A_JJ_D1','A_Q_D1','A_R_D1','A_S_D1','A_R\\'_D1','A_S\\'_D1','A_P_D1','A_T_D1','QRSA_D1','QRSTA_D1','A_JJ_D2','A_Q_D2','A_R_D2','A_S_D2','A_R\\'_D2','A_S\\'_D2','A_P_D2','A_T_D2','QRSA_D2','QRSTA_D2','A_JJ_D3','A_Q_D3','A_R_D3','A_S_D3','A_R\\'_D3','A_S\\'_D3','A_P_D3','A_T_D3','QRSA_D3','QRSTA_D3','A_JJ_AVR','A_Q_AVR','A_R_AVR','A_S_AVR','A_R\\'_AVR','A_S\\'_AVR','A_P_AVR','A_T_AVR','QRSA_AVR','QRSTA_AVR','A_JJ_AVL','A_Q_AVL','A_R_AVL','A_S_AVL','A_R\\'_AVL','A_S\\'_AVL','A_P_AVL','A_T_AVL','QRSA_AVL','QRSTA_AVL','A_JJ_AVF','A_Q_AVF','A_R_AVF','A_S_AVF','A_R\\'_AVF','A_S\\'_AVF','A_P_AVF','A_T_AVF','QRSA_AVF','QRSTA_AVF','A_JJ_V1','A_Q_V1','A_R_V1','A_S_V1','A_R\\'_V1','A_S\\'_V1','A_P_V1','A_T_V1','QRSA_V1','QRSTA_V1','A_JJ_V2','A_Q_V2','A_R_V2','A_S_V2','A_R\\'_V2','A_S\\'_V2','A_P_V2','A_T_V2','QRSA_V2','QRSTA_V2','A_JJ_V3','A_Q_V3','A_R_V3','A_S_V3','A_R\\'_V3','A_S\\'_V3','A_P_V3','A_T_V3','QRSA_V1','QRSTA_V3','A_JJ_V4','A_Q_V4','A_R_V4','A_S_V4','A_R\\'_V4','A_S\\'_V4','A_P_V4','A_T_V4','QRSA_V4','QRSTA_V4','A_JJ_V5','A_Q_V5','A_R_V5','A_S_V5','A_R\\'_V5','A_S\\'_V5','A_P_V5','A_T_V5','QRSA_V5','QRSTA_V5','A_JJ_V6','A_Q_V6','A_R_V6','A_S_V6','A_R\\'_V6','A_S\\'_V6','A_P_V6','A_T_V6','QRSA_V6','QRSTA_V6','Class']\n",
    "len(column_names)"
   ]
  },
  {
   "cell_type": "code",
   "execution_count": 2,
   "metadata": {},
   "outputs": [],
   "source": [
    "arrhythmia_data.columns=column_names\n",
    "arrhythmia_data.columns\n",
    "arrhythmia_data.replace({'?': np.nan}, regex=False,inplace=True) #https://stackoverflow.com/questions/50894580/how-to-replace-question-mark-in-value-of-a-panda-frame-as-missing-value/57800409#57800409\n",
    "#arrhythmia_data[arrhythmia_data=='?']=np.NaN\n",
    "null_values=(arrhythmia_data.isna().sum()).sort_values(ascending=False)\n",
    "null_cols=null_values[null_values!=0].index\n",
    "arrhythmia_data=arrhythmia_data.astype(float)\n",
    "#arrhythmia_data\n",
    "\n",
    "# shuffled data to randomize training\n",
    "from sklearn.utils import shuffle\n",
    "arrhythmia_data = shuffle(arrhythmia_data)"
   ]
  },
  {
   "cell_type": "code",
   "execution_count": 3,
   "metadata": {},
   "outputs": [],
   "source": [
    "for col in null_cols:\n",
    "    mean_of_col= (arrhythmia_data[col][arrhythmia_data[col].notnull()]).astype(float).mean()\n",
    "    arrhythmia_data[col]=arrhythmia_data[col].fillna(mean_of_col,inplace= False)"
   ]
  },
  {
   "cell_type": "code",
   "execution_count": 4,
   "metadata": {},
   "outputs": [
    {
     "name": "stdout",
     "output_type": "stream",
     "text": [
      "(360, 279) (45, 279) (46, 279)\n"
     ]
    }
   ],
   "source": [
    "from sklearn.model_selection import train_test_split\n",
    "X = arrhythmia_data.iloc[:, :-1].values\n",
    "y = arrhythmia_data.iloc[:, -1].values\n",
    "\n",
    "x_train, x_test, y_train, y_test = train_test_split(X, y, test_size=0.2)\n",
    "x_val, x_test, y_val, y_test = train_test_split(x_test, y_test, test_size=0.5)\n",
    "\n",
    "temp_y_test = y_test.copy()\n",
    "\n",
    "print(x_train.shape, x_val.shape, x_test.shape)"
   ]
  },
  {
   "cell_type": "markdown",
   "metadata": {},
   "source": [
    "from keras.utils import to_categorical\n",
    "\n",
    "cols=arrhythmia_data.shape[1]\n",
    "rows=arrhythmia_data.shape[0]\n",
    "x_train=arrhythmia_data.iloc[:int(rows*.8),0:279]\n",
    "y_train=(arrhythmia_data.loc[:int(rows*.8)-1,'Class']).astype(int)\n",
    "x_test=arrhythmia_data.iloc[int(rows*.8):,0:279]\n",
    "y_test=(arrhythmia_data.loc[int(rows*.8):,'Class']).astype(int)\n",
    "x_train.to_numpy()\n",
    "y_train=to_categorical(y_train.to_numpy())\n",
    "x_test.to_numpy()\n",
    "y_test=to_categorical(y_test.to_numpy())1"
   ]
  },
  {
   "cell_type": "code",
   "execution_count": 5,
   "metadata": {},
   "outputs": [
    {
     "name": "stderr",
     "output_type": "stream",
     "text": [
      "Using TensorFlow backend.\n",
      "E:\\Installed_Softwares\\Anaconda3\\lib\\site-packages\\tensorflow\\python\\framework\\dtypes.py:526: FutureWarning: Passing (type, 1) or '1type' as a synonym of type is deprecated; in a future version of numpy, it will be understood as (type, (1,)) / '(1,)type'.\n",
      "  _np_qint8 = np.dtype([(\"qint8\", np.int8, 1)])\n",
      "E:\\Installed_Softwares\\Anaconda3\\lib\\site-packages\\tensorflow\\python\\framework\\dtypes.py:527: FutureWarning: Passing (type, 1) or '1type' as a synonym of type is deprecated; in a future version of numpy, it will be understood as (type, (1,)) / '(1,)type'.\n",
      "  _np_quint8 = np.dtype([(\"quint8\", np.uint8, 1)])\n",
      "E:\\Installed_Softwares\\Anaconda3\\lib\\site-packages\\tensorflow\\python\\framework\\dtypes.py:528: FutureWarning: Passing (type, 1) or '1type' as a synonym of type is deprecated; in a future version of numpy, it will be understood as (type, (1,)) / '(1,)type'.\n",
      "  _np_qint16 = np.dtype([(\"qint16\", np.int16, 1)])\n",
      "E:\\Installed_Softwares\\Anaconda3\\lib\\site-packages\\tensorflow\\python\\framework\\dtypes.py:529: FutureWarning: Passing (type, 1) or '1type' as a synonym of type is deprecated; in a future version of numpy, it will be understood as (type, (1,)) / '(1,)type'.\n",
      "  _np_quint16 = np.dtype([(\"quint16\", np.uint16, 1)])\n",
      "E:\\Installed_Softwares\\Anaconda3\\lib\\site-packages\\tensorflow\\python\\framework\\dtypes.py:530: FutureWarning: Passing (type, 1) or '1type' as a synonym of type is deprecated; in a future version of numpy, it will be understood as (type, (1,)) / '(1,)type'.\n",
      "  _np_qint32 = np.dtype([(\"qint32\", np.int32, 1)])\n",
      "E:\\Installed_Softwares\\Anaconda3\\lib\\site-packages\\tensorflow\\python\\framework\\dtypes.py:535: FutureWarning: Passing (type, 1) or '1type' as a synonym of type is deprecated; in a future version of numpy, it will be understood as (type, (1,)) / '(1,)type'.\n",
      "  np_resource = np.dtype([(\"resource\", np.ubyte, 1)])\n"
     ]
    }
   ],
   "source": [
    "from keras.utils import to_categorical\n",
    "y_train = to_categorical(y_train)\n",
    "y_val = to_categorical(y_val)\n",
    "y_test = to_categorical(y_test)"
   ]
  },
  {
   "cell_type": "code",
   "execution_count": 6,
   "metadata": {},
   "outputs": [],
   "source": [
    "# 0,1 or min-max-normalization\n",
    "\n",
    "from sklearn.preprocessing import MinMaxScaler\n",
    "\n",
    "mms_x = MinMaxScaler()\n",
    "\n",
    "pp_x_train = mms_x.fit_transform(x_train)\n",
    "pp_x_val = mms_x.transform(x_val)\n",
    "pp_x_test = mms_x.transform(x_test)"
   ]
  },
  {
   "cell_type": "code",
   "execution_count": 7,
   "metadata": {},
   "outputs": [
    {
     "data": {
      "text/plain": [
       "(46, 279)"
      ]
     },
     "execution_count": 7,
     "metadata": {},
     "output_type": "execute_result"
    }
   ],
   "source": [
    "pp_x_test.shape"
   ]
  },
  {
   "cell_type": "code",
   "execution_count": 8,
   "metadata": {},
   "outputs": [],
   "source": [
    "from keras.models import Sequential\n",
    "from keras.layers import Dense"
   ]
  },
  {
   "cell_type": "code",
   "execution_count": 9,
   "metadata": {},
   "outputs": [
    {
     "name": "stdout",
     "output_type": "stream",
     "text": [
      "WARNING:tensorflow:From E:\\Installed_Softwares\\Anaconda3\\lib\\site-packages\\tensorflow\\python\\framework\\op_def_library.py:263: colocate_with (from tensorflow.python.framework.ops) is deprecated and will be removed in a future version.\n",
      "Instructions for updating:\n",
      "Colocations handled automatically by placer.\n"
     ]
    }
   ],
   "source": [
    "model=Sequential()\n",
    "model.add(Dense(128,input_dim=(279),activation='sigmoid'))\n",
    "model.add(Dense(64,activation='relu'))\n",
    "model.add(Dense(32,activation='relu'))\n",
    "model.add(Dense(17,activation='softmax'))"
   ]
  },
  {
   "cell_type": "code",
   "execution_count": 10,
   "metadata": {},
   "outputs": [],
   "source": [
    "model.compile(loss='categorical_crossentropy', optimizer='adam', metrics=['accuracy'])"
   ]
  },
  {
   "cell_type": "code",
   "execution_count": 11,
   "metadata": {},
   "outputs": [
    {
     "name": "stdout",
     "output_type": "stream",
     "text": [
      "WARNING:tensorflow:From E:\\Installed_Softwares\\Anaconda3\\lib\\site-packages\\tensorflow\\python\\ops\\math_ops.py:3066: to_int32 (from tensorflow.python.ops.math_ops) is deprecated and will be removed in a future version.\n",
      "Instructions for updating:\n",
      "Use tf.cast instead.\n",
      "Train on 360 samples, validate on 45 samples\n",
      "Epoch 1/15\n",
      "360/360 [==============================] - 2s 4ms/step - loss: 2.2975 - acc: 0.4306 - val_loss: 1.8856 - val_acc: 0.5333\n",
      "Epoch 2/15\n",
      "360/360 [==============================] - 0s 520us/step - loss: 1.7840 - acc: 0.5306 - val_loss: 1.7469 - val_acc: 0.5333\n",
      "Epoch 3/15\n",
      "360/360 [==============================] - 0s 532us/step - loss: 1.7260 - acc: 0.5306 - val_loss: 1.6522 - val_acc: 0.5333\n",
      "Epoch 4/15\n",
      "360/360 [==============================] - 0s 524us/step - loss: 1.6536 - acc: 0.5306 - val_loss: 1.6342 - val_acc: 0.5556\n",
      "Epoch 5/15\n",
      "360/360 [==============================] - 0s 530us/step - loss: 1.5998 - acc: 0.5306 - val_loss: 1.6225 - val_acc: 0.5556\n",
      "Epoch 6/15\n",
      "360/360 [==============================] - 0s 524us/step - loss: 1.5774 - acc: 0.5472 - val_loss: 1.5285 - val_acc: 0.5556\n",
      "Epoch 7/15\n",
      "360/360 [==============================] - 0s 529us/step - loss: 1.4942 - acc: 0.5556 - val_loss: 1.5107 - val_acc: 0.5556\n",
      "Epoch 8/15\n",
      "360/360 [==============================] - 0s 545us/step - loss: 1.3937 - acc: 0.5806 - val_loss: 1.4120 - val_acc: 0.5556\n",
      "Epoch 9/15\n",
      "360/360 [==============================] - 0s 587us/step - loss: 1.3164 - acc: 0.6194 - val_loss: 1.3520 - val_acc: 0.5778\n",
      "Epoch 10/15\n",
      "360/360 [==============================] - 0s 549us/step - loss: 1.2552 - acc: 0.6389 - val_loss: 1.3368 - val_acc: 0.6444\n",
      "Epoch 11/15\n",
      "360/360 [==============================] - 0s 507us/step - loss: 1.2183 - acc: 0.6694 - val_loss: 1.3460 - val_acc: 0.6000\n",
      "Epoch 12/15\n",
      "360/360 [==============================] - 0s 564us/step - loss: 1.1568 - acc: 0.6722 - val_loss: 1.4360 - val_acc: 0.6000\n",
      "Epoch 13/15\n",
      "360/360 [==============================] - 0s 585us/step - loss: 1.0945 - acc: 0.6889 - val_loss: 1.1900 - val_acc: 0.6667\n",
      "Epoch 14/15\n",
      "360/360 [==============================] - 0s 541us/step - loss: 1.0528 - acc: 0.7028 - val_loss: 1.1886 - val_acc: 0.6667\n",
      "Epoch 15/15\n",
      "360/360 [==============================] - ETA: 0s - loss: 1.0188 - acc: 0.706 - 0s 508us/step - loss: 1.0271 - acc: 0.7028 - val_loss: 1.1237 - val_acc: 0.6889\n"
     ]
    },
    {
     "data": {
      "text/plain": [
       "<keras.callbacks.History at 0x1a883c5a8d0>"
      ]
     },
     "execution_count": 11,
     "metadata": {},
     "output_type": "execute_result"
    }
   ],
   "source": [
    "model.fit(pp_x_train, y_train, epochs=15, batch_size=8, validation_data=(pp_x_val, y_val))"
   ]
  },
  {
   "cell_type": "code",
   "execution_count": 12,
   "metadata": {},
   "outputs": [
    {
     "name": "stdout",
     "output_type": "stream",
     "text": [
      "46/46 [==============================] - 0s 173us/step\n",
      "Accuracy: 65.22\n"
     ]
    }
   ],
   "source": [
    "_, accuracy = model.evaluate(pp_x_test, y_test)\n",
    "print('Accuracy: %.2f' % (accuracy*100))"
   ]
  },
  {
   "cell_type": "code",
   "execution_count": 13,
   "metadata": {},
   "outputs": [
    {
     "data": {
      "text/plain": [
       "array([ 3,  3,  3,  3,  3,  3,  3,  3,  3,  3,  3,  3,  3, 10,  3,  3,  3,\n",
       "       10,  3,  3,  3,  3,  3, 10,  3,  3,  3,  3,  3,  3,  3, 10,  3,  3,\n",
       "        3,  3,  3,  3,  3,  3,  3,  3,  3,  3,  3,  3], dtype=int64)"
      ]
     },
     "execution_count": 13,
     "metadata": {},
     "output_type": "execute_result"
    }
   ],
   "source": [
    "model.predict_classes(x_test)"
   ]
  },
  {
   "cell_type": "code",
   "execution_count": null,
   "metadata": {},
   "outputs": [],
   "source": []
  }
 ],
 "metadata": {
  "kernelspec": {
   "display_name": "Python 3",
   "language": "python",
   "name": "python3"
  },
  "language_info": {
   "codemirror_mode": {
    "name": "ipython",
    "version": 3
   },
   "file_extension": ".py",
   "mimetype": "text/x-python",
   "name": "python",
   "nbconvert_exporter": "python",
   "pygments_lexer": "ipython3",
   "version": "3.7.3"
  }
 },
 "nbformat": 4,
 "nbformat_minor": 4
}
