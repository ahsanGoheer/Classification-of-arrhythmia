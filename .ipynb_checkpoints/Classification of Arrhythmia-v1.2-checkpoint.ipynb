{
 "cells": [
  {
   "cell_type": "markdown",
   "metadata": {},
   "source": [
    "# Importing libraries"
   ]
  },
  {
   "cell_type": "code",
   "execution_count": 1,
   "metadata": {},
   "outputs": [],
   "source": [
    "import numpy as np\n",
    "import pandas as pd\n",
    "\n",
    "from sklearn.utils import shuffle\n",
    "from sklearn.preprocessing import MinMaxScaler\n",
    "from sklearn.model_selection import train_test_split\n",
    "\n",
    "from keras.layers import Dense,Dropout\n",
    "from keras.models import Sequential\n",
    "from keras.utils import to_categorical"
   ]
  },
  {
   "cell_type": "markdown",
   "metadata": {},
   "source": [
    "# Loading dataset as pandas dataframe"
   ]
  },
  {
   "cell_type": "code",
   "execution_count": 2,
   "metadata": {},
   "outputs": [],
   "source": [
    "arrhythmia_data=pd.read_csv('./arrhythmia.csv')"
   ]
  },
  {
   "cell_type": "code",
   "execution_count": 3,
   "metadata": {},
   "outputs": [
    {
     "name": "stdout",
     "output_type": "stream",
     "text": [
      "<class 'pandas.core.frame.DataFrame'>\n",
      "RangeIndex: 451 entries, 0 to 450\n",
      "Columns: 280 entries, 75 to 8\n",
      "dtypes: float64(120), int64(155), object(5)\n",
      "memory usage: 986.7+ KB\n"
     ]
    }
   ],
   "source": [
    "arrhythmia_data.info()"
   ]
  },
  {
   "cell_type": "markdown",
   "metadata": {},
   "source": [
    "# Assigning names to columns"
   ]
  },
  {
   "cell_type": "code",
   "execution_count": 4,
   "metadata": {},
   "outputs": [
    {
     "data": {
      "text/html": [
       "<div>\n",
       "<style scoped>\n",
       "    .dataframe tbody tr th:only-of-type {\n",
       "        vertical-align: middle;\n",
       "    }\n",
       "\n",
       "    .dataframe tbody tr th {\n",
       "        vertical-align: top;\n",
       "    }\n",
       "\n",
       "    .dataframe thead th {\n",
       "        text-align: right;\n",
       "    }\n",
       "</style>\n",
       "<table border=\"1\" class=\"dataframe\">\n",
       "  <thead>\n",
       "    <tr style=\"text-align: right;\">\n",
       "      <th></th>\n",
       "      <th>age</th>\n",
       "      <th>gender</th>\n",
       "      <th>height</th>\n",
       "      <th>weight</th>\n",
       "      <th>qrs_duration</th>\n",
       "      <th>p-r_Interval</th>\n",
       "      <th>q-t_interval</th>\n",
       "      <th>t_interval</th>\n",
       "      <th>p_interval</th>\n",
       "      <th>QRS</th>\n",
       "      <th>...</th>\n",
       "      <th>A_Q_V6</th>\n",
       "      <th>A_R_V6</th>\n",
       "      <th>A_S_V6</th>\n",
       "      <th>A_R'_V6</th>\n",
       "      <th>A_S'_V6</th>\n",
       "      <th>A_P_V6</th>\n",
       "      <th>A_T_V6</th>\n",
       "      <th>QRSA_V6</th>\n",
       "      <th>QRSTA_V6</th>\n",
       "      <th>Class</th>\n",
       "    </tr>\n",
       "  </thead>\n",
       "  <tbody>\n",
       "    <tr>\n",
       "      <th>0</th>\n",
       "      <td>56</td>\n",
       "      <td>1</td>\n",
       "      <td>165</td>\n",
       "      <td>64</td>\n",
       "      <td>81</td>\n",
       "      <td>174</td>\n",
       "      <td>401</td>\n",
       "      <td>149</td>\n",
       "      <td>39</td>\n",
       "      <td>25</td>\n",
       "      <td>...</td>\n",
       "      <td>0.0</td>\n",
       "      <td>8.5</td>\n",
       "      <td>0.0</td>\n",
       "      <td>0.0</td>\n",
       "      <td>0.0</td>\n",
       "      <td>0.2</td>\n",
       "      <td>2.1</td>\n",
       "      <td>20.4</td>\n",
       "      <td>38.8</td>\n",
       "      <td>6</td>\n",
       "    </tr>\n",
       "    <tr>\n",
       "      <th>1</th>\n",
       "      <td>54</td>\n",
       "      <td>0</td>\n",
       "      <td>172</td>\n",
       "      <td>95</td>\n",
       "      <td>138</td>\n",
       "      <td>163</td>\n",
       "      <td>386</td>\n",
       "      <td>185</td>\n",
       "      <td>102</td>\n",
       "      <td>96</td>\n",
       "      <td>...</td>\n",
       "      <td>0.0</td>\n",
       "      <td>9.5</td>\n",
       "      <td>-2.4</td>\n",
       "      <td>0.0</td>\n",
       "      <td>0.0</td>\n",
       "      <td>0.3</td>\n",
       "      <td>3.4</td>\n",
       "      <td>12.3</td>\n",
       "      <td>49.0</td>\n",
       "      <td>10</td>\n",
       "    </tr>\n",
       "    <tr>\n",
       "      <th>2</th>\n",
       "      <td>55</td>\n",
       "      <td>0</td>\n",
       "      <td>175</td>\n",
       "      <td>94</td>\n",
       "      <td>100</td>\n",
       "      <td>202</td>\n",
       "      <td>380</td>\n",
       "      <td>179</td>\n",
       "      <td>143</td>\n",
       "      <td>28</td>\n",
       "      <td>...</td>\n",
       "      <td>0.0</td>\n",
       "      <td>12.2</td>\n",
       "      <td>-2.2</td>\n",
       "      <td>0.0</td>\n",
       "      <td>0.0</td>\n",
       "      <td>0.4</td>\n",
       "      <td>2.6</td>\n",
       "      <td>34.6</td>\n",
       "      <td>61.6</td>\n",
       "      <td>1</td>\n",
       "    </tr>\n",
       "    <tr>\n",
       "      <th>3</th>\n",
       "      <td>75</td>\n",
       "      <td>0</td>\n",
       "      <td>190</td>\n",
       "      <td>80</td>\n",
       "      <td>88</td>\n",
       "      <td>181</td>\n",
       "      <td>360</td>\n",
       "      <td>177</td>\n",
       "      <td>103</td>\n",
       "      <td>-16</td>\n",
       "      <td>...</td>\n",
       "      <td>0.0</td>\n",
       "      <td>13.1</td>\n",
       "      <td>-3.6</td>\n",
       "      <td>0.0</td>\n",
       "      <td>0.0</td>\n",
       "      <td>-0.1</td>\n",
       "      <td>3.9</td>\n",
       "      <td>25.4</td>\n",
       "      <td>62.8</td>\n",
       "      <td>7</td>\n",
       "    </tr>\n",
       "    <tr>\n",
       "      <th>4</th>\n",
       "      <td>13</td>\n",
       "      <td>0</td>\n",
       "      <td>169</td>\n",
       "      <td>51</td>\n",
       "      <td>100</td>\n",
       "      <td>167</td>\n",
       "      <td>321</td>\n",
       "      <td>174</td>\n",
       "      <td>91</td>\n",
       "      <td>107</td>\n",
       "      <td>...</td>\n",
       "      <td>-0.6</td>\n",
       "      <td>12.2</td>\n",
       "      <td>-2.8</td>\n",
       "      <td>0.0</td>\n",
       "      <td>0.0</td>\n",
       "      <td>0.9</td>\n",
       "      <td>2.2</td>\n",
       "      <td>13.5</td>\n",
       "      <td>31.1</td>\n",
       "      <td>14</td>\n",
       "    </tr>\n",
       "  </tbody>\n",
       "</table>\n",
       "<p>5 rows × 280 columns</p>\n",
       "</div>"
      ],
      "text/plain": [
       "   age  gender  height  weight  qrs_duration  p-r_Interval  q-t_interval  \\\n",
       "0   56       1     165      64            81           174           401   \n",
       "1   54       0     172      95           138           163           386   \n",
       "2   55       0     175      94           100           202           380   \n",
       "3   75       0     190      80            88           181           360   \n",
       "4   13       0     169      51           100           167           321   \n",
       "\n",
       "   t_interval  p_interval  QRS  ... A_Q_V6 A_R_V6 A_S_V6 A_R'_V6 A_S'_V6  \\\n",
       "0         149          39   25  ...    0.0    8.5    0.0     0.0     0.0   \n",
       "1         185         102   96  ...    0.0    9.5   -2.4     0.0     0.0   \n",
       "2         179         143   28  ...    0.0   12.2   -2.2     0.0     0.0   \n",
       "3         177         103  -16  ...    0.0   13.1   -3.6     0.0     0.0   \n",
       "4         174          91  107  ...   -0.6   12.2   -2.8     0.0     0.0   \n",
       "\n",
       "   A_P_V6  A_T_V6  QRSA_V6  QRSTA_V6  Class  \n",
       "0     0.2     2.1     20.4      38.8      6  \n",
       "1     0.3     3.4     12.3      49.0     10  \n",
       "2     0.4     2.6     34.6      61.6      1  \n",
       "3    -0.1     3.9     25.4      62.8      7  \n",
       "4     0.9     2.2     13.5      31.1     14  \n",
       "\n",
       "[5 rows x 280 columns]"
      ]
     },
     "execution_count": 4,
     "metadata": {},
     "output_type": "execute_result"
    }
   ],
   "source": [
    "column_names=['age','gender','height','weight','qrs_duration','p-r_Interval','q-t_interval',\n",
    "              't_interval','p_interval','QRS','T','P','QRST','J',\n",
    "              'Heart rate','Q_D1','R_D1','S_D1','R\\'_D1','S\\'_D1','NOD_D1',\n",
    "              'EOR_R_D1','EOD_R_D1','EOR_P_D1','EOD_P_D1','EOR_T_D1','EOD_T_D1','Q_D2','R_D2',\n",
    "              'S_D2','R\\'_D2','S\\'_D2','NOD_D2','EOR_R_D2','EOD_R_D2','EOR_P_D2','EOD_P_D2',\n",
    "              'EOR_T_D2','EOD_T_D2','Q_D3','R_D3','S_D3','R\\'_D3','S\\'_D3','NOD_D3',\n",
    "              'EOR_R_D3','EOD_R_D3','EOR_P_D3','EOD_P_D3','EOR_T_D3','EOD_T_D3','Q_AVR','R_AVR',\n",
    "              'S_AVR','R\\'_AVR','S\\'_AVR','NOD_AVR','EOR_R_AVR','EOD_R_AVR','EOR_P_AVR','EOD_P_AVR',\n",
    "              'EOR_T_AVR','EOD_T_AVR','Q_AVL','R_AVL','S_AVL','R\\'_AVL','S\\'_AVL','NOD_AVL','EOR_R_AVL',\n",
    "              'EOD_R_AVL','EOR_P_AVL','EOD_P_AVL','EOR_T_AVL','EOD_T_AVL','Q_AVF','R_AVF','S_AVF','R\\'_AVF',\n",
    "              'S\\'_AVF','NOD_AVF','EOR_R_AVF','EOD_R_AVF','EOR_P_AVF','EOD_P_AVF','EOR_T_AVF','EOD_T_AVF','Q_V1',\n",
    "              'R_V1','S_V1','R\\'_V1','S\\'_V1','NOD_V1','EOR_R_V1','EOD_R_V1','EOR_P_V1','EOD_P_V1','EOR_T_V1',\n",
    "              'EOD_T_V1','Q_V2','R_V2','S_V2','R\\'_V2','S\\'_V2','NOD_V2','EOR_R_V2','EOD_R_V2','EOR_P_V2','EOD_P_V2',\n",
    "              'EOR_T_V2','EOD_T_V2','Q_V3','R_V3','S_V3','R\\'_V3','S\\'_V3','NOD_V3','EOR_R_V3','EOD_R_V3','EOR_P_V3',\n",
    "              'EOD_P_V3','EOR_T_V3','EOD_T_V3','Q_V4','R_V4','S_V4','R\\'_V4','S\\'_V4','NOD_V4','EOR_R_V4','EOD_R_V4',\n",
    "              'EOR_P_V4','EOD_P_V4','EOR_T_V4','EOD_T_V4','Q_V5','R_V5','S_V5','R\\'_V5','S\\'_V5','NOD_V5','EOR_R_V5',\n",
    "              'EOD_R_V5','EOR_P_V5','EOD_P_V5','EOR_T_V5','EOD_T_V5','Q_V6','R_V6','S_V6','R\\'_V6','S\\'_V6','NOD_V6',\n",
    "              'EOR_R_V6','EOD_R_V6','EOR_P_V6','EOD_P_V6','EOR_T_V6','EOD_T_V6','A_JJ_D1','A_Q_D1','A_R_D1','A_S_D1',\n",
    "              'A_R\\'_D1','A_S\\'_D1','A_P_D1','A_T_D1','QRSA_D1','QRSTA_D1','A_JJ_D2','A_Q_D2','A_R_D2','A_S_D2','A_R\\'_D2',\n",
    "              'A_S\\'_D2','A_P_D2','A_T_D2','QRSA_D2','QRSTA_D2','A_JJ_D3','A_Q_D3','A_R_D3','A_S_D3','A_R\\'_D3','A_S\\'_D3',\n",
    "              'A_P_D3','A_T_D3','QRSA_D3','QRSTA_D3','A_JJ_AVR','A_Q_AVR','A_R_AVR','A_S_AVR','A_R\\'_AVR','A_S\\'_AVR','A_P_AVR'\n",
    "              ,'A_T_AVR','QRSA_AVR','QRSTA_AVR','A_JJ_AVL','A_Q_AVL','A_R_AVL','A_S_AVL','A_R\\'_AVL','A_S\\'_AVL','A_P_AVL'\n",
    "              ,'A_T_AVL','QRSA_AVL','QRSTA_AVL','A_JJ_AVF','A_Q_AVF','A_R_AVF','A_S_AVF','A_R\\'_AVF','A_S\\'_AVF','A_P_AVF',\n",
    "              'A_T_AVF','QRSA_AVF','QRSTA_AVF','A_JJ_V1','A_Q_V1','A_R_V1','A_S_V1','A_R\\'_V1','A_S\\'_V1','A_P_V1','A_T_V1',\n",
    "              'QRSA_V1','QRSTA_V1','A_JJ_V2','A_Q_V2','A_R_V2','A_S_V2','A_R\\'_V2','A_S\\'_V2','A_P_V2','A_T_V2','QRSA_V2',\n",
    "              'QRSTA_V2','A_JJ_V3','A_Q_V3','A_R_V3','A_S_V3','A_R\\'_V3','A_S\\'_V3','A_P_V3','A_T_V3','QRSA_V1','QRSTA_V3',\n",
    "              'A_JJ_V4','A_Q_V4','A_R_V4','A_S_V4','A_R\\'_V4','A_S\\'_V4','A_P_V4','A_T_V4','QRSA_V4','QRSTA_V4','A_JJ_V5',\n",
    "              'A_Q_V5','A_R_V5','A_S_V5','A_R\\'_V5','A_S\\'_V5','A_P_V5','A_T_V5','QRSA_V5','QRSTA_V5','A_JJ_V6','A_Q_V6',\n",
    "              'A_R_V6','A_S_V6','A_R\\'_V6','A_S\\'_V6','A_P_V6','A_T_V6','QRSA_V6','QRSTA_V6','Class']\n",
    "arrhythmia_data.columns=column_names\n",
    "arrhythmia_data.head()"
   ]
  },
  {
   "cell_type": "markdown",
   "metadata": {},
   "source": [
    "# Replacing '?' with np.nan (not a number)"
   ]
  },
  {
   "cell_type": "code",
   "execution_count": 5,
   "metadata": {},
   "outputs": [
    {
     "name": "stdout",
     "output_type": "stream",
     "text": [
      "J             375\n",
      "P              22\n",
      "T               8\n",
      "Heart rate      1\n",
      "QRST            1\n",
      "dtype: int64\n"
     ]
    }
   ],
   "source": [
    "arrhythmia_data.replace({'?': np.nan}, regex=False,inplace=True) #https://stackoverflow.com/questions/50894580/how-to-replace-question-mark-in-value-of-a-panda-frame-as-missing-value/57800409#57800409\n",
    "null_values=(arrhythmia_data.isna().sum()).sort_values(ascending=False)\n",
    "null_cols=null_values[null_values!=0].index\n",
    "arrhythmia_data=arrhythmia_data.astype(float)\n",
    "print(null_values[null_values!=0])"
   ]
  },
  {
   "cell_type": "markdown",
   "metadata": {},
   "source": [
    "# Preprocess to replace missing values with the mean of the column "
   ]
  },
  {
   "cell_type": "code",
   "execution_count": 6,
   "metadata": {},
   "outputs": [],
   "source": [
    "for col in null_cols:\n",
    "    mean_of_col= (arrhythmia_data[col][arrhythmia_data[col].notnull()]).astype(float).mean()\n",
    "    arrhythmia_data[col]=arrhythmia_data[col].fillna(mean_of_col,inplace= False)"
   ]
  },
  {
   "cell_type": "markdown",
   "metadata": {},
   "source": [
    "# Shuffle to randomize data"
   ]
  },
  {
   "cell_type": "code",
   "execution_count": 7,
   "metadata": {},
   "outputs": [],
   "source": [
    "arrhythmia_data = shuffle(arrhythmia_data)"
   ]
  },
  {
   "cell_type": "markdown",
   "metadata": {},
   "source": [
    "# Applying train, validation & test split with ratios of 80, 10, 10 respectively"
   ]
  },
  {
   "cell_type": "code",
   "execution_count": 8,
   "metadata": {},
   "outputs": [
    {
     "name": "stdout",
     "output_type": "stream",
     "text": [
      "(360, 279) (45, 279) (46, 279)\n"
     ]
    }
   ],
   "source": [
    "X = arrhythmia_data.iloc[:, :-1].values\n",
    "y = arrhythmia_data.iloc[:, -1].values\n",
    "\n",
    "x_train, x_test, y_train, y_test = train_test_split(X, y, test_size=0.2)\n",
    "x_val, x_test, y_val, y_test = train_test_split(x_test, y_test, test_size=0.5)\n",
    "\n",
    "temp_y_test = y_test.copy()\n",
    "\n",
    "print(x_train.shape, x_val.shape, x_test.shape)"
   ]
  },
  {
   "cell_type": "markdown",
   "metadata": {},
   "source": [
    "# Converting numeric classes into categorical data"
   ]
  },
  {
   "cell_type": "code",
   "execution_count": 9,
   "metadata": {},
   "outputs": [],
   "source": [
    "y_train = to_categorical(y_train)\n",
    "y_val = to_categorical(y_val)\n",
    "y_test = to_categorical(y_test)"
   ]
  },
  {
   "cell_type": "markdown",
   "metadata": {},
   "source": [
    "# Avoiding dummy variable trap"
   ]
  },
  {
   "cell_type": "code",
   "execution_count": 10,
   "metadata": {},
   "outputs": [],
   "source": [
    "y_train = y_train[:,1:]\n",
    "y_val = y_val[:,1:]\n",
    "y_test = y_test[:,1:]"
   ]
  },
  {
   "cell_type": "markdown",
   "metadata": {},
   "source": [
    "# Applying Min-Max-Normalization"
   ]
  },
  {
   "cell_type": "code",
   "execution_count": 11,
   "metadata": {},
   "outputs": [],
   "source": [
    "mms_x = MinMaxScaler()\n",
    "\n",
    "pp_x_train = mms_x.fit_transform(x_train)\n",
    "pp_x_val = mms_x.transform(x_val)\n",
    "pp_x_test = mms_x.transform(x_test)"
   ]
  },
  {
   "cell_type": "code",
   "execution_count": 12,
   "metadata": {},
   "outputs": [
    {
     "name": "stdout",
     "output_type": "stream",
     "text": [
      "(360, 279) (45, 279) (46, 279)\n"
     ]
    }
   ],
   "source": [
    "print(pp_x_train.shape, pp_x_val.shape, pp_x_test.shape)"
   ]
  },
  {
   "cell_type": "markdown",
   "metadata": {},
   "source": [
    "# Creating multilayer perceptron in Keras"
   ]
  },
  {
   "cell_type": "code",
   "execution_count": 13,
   "metadata": {},
   "outputs": [],
   "source": [
    "model=Sequential()\n",
    "model.add(Dense(128,input_dim=(279),activation='relu'))\n",
    "model.add(Dropout(0.2))\n",
    "model.add(Dense(64,activation='relu'))\n",
    "model.add(Dropout(0.2))\n",
    "model.add(Dense(32,activation='relu'))\n",
    "model.add(Dropout(0.2))\n",
    "model.add(Dense(16,activation='softmax'))"
   ]
  },
  {
   "cell_type": "markdown",
   "metadata": {},
   "source": [
    "# Loss function, optimizer and accuracy method"
   ]
  },
  {
   "cell_type": "code",
   "execution_count": 14,
   "metadata": {},
   "outputs": [],
   "source": [
    "model.compile(loss='categorical_crossentropy', optimizer='adam', metrics=['accuracy','top_k_categorical_accuracy'])"
   ]
  },
  {
   "cell_type": "markdown",
   "metadata": {},
   "source": [
    "# Fitting the model using train and validation data"
   ]
  },
  {
   "cell_type": "code",
   "execution_count": 15,
   "metadata": {},
   "outputs": [
    {
     "name": "stdout",
     "output_type": "stream",
     "text": [
      "Epoch 1/20\n",
      "45/45 [==============================] - 1s 11ms/step - loss: 2.3895 - accuracy: 0.3901 - top_k_categorical_accuracy: 0.6327 - val_loss: 1.7288 - val_accuracy: 0.6444 - val_top_k_categorical_accuracy: 0.8889\n",
      "Epoch 2/20\n",
      "45/45 [==============================] - 0s 2ms/step - loss: 1.8699 - accuracy: 0.5802 - top_k_categorical_accuracy: 0.7784 - val_loss: 1.6225 - val_accuracy: 0.6444 - val_top_k_categorical_accuracy: 0.9111\n",
      "Epoch 3/20\n",
      "45/45 [==============================] - 0s 2ms/step - loss: 1.9164 - accuracy: 0.5559 - top_k_categorical_accuracy: 0.8171 - val_loss: 1.5117 - val_accuracy: 0.6444 - val_top_k_categorical_accuracy: 0.8667\n",
      "Epoch 4/20\n",
      "45/45 [==============================] - 0s 2ms/step - loss: 1.7950 - accuracy: 0.5381 - top_k_categorical_accuracy: 0.8370 - val_loss: 1.4575 - val_accuracy: 0.6444 - val_top_k_categorical_accuracy: 0.8667\n",
      "Epoch 5/20\n",
      "45/45 [==============================] - 0s 2ms/step - loss: 1.7625 - accuracy: 0.5273 - top_k_categorical_accuracy: 0.8363 - val_loss: 1.4278 - val_accuracy: 0.6444 - val_top_k_categorical_accuracy: 0.8667\n",
      "Epoch 6/20\n",
      "45/45 [==============================] - 0s 2ms/step - loss: 1.7158 - accuracy: 0.5563 - top_k_categorical_accuracy: 0.8362 - val_loss: 1.4973 - val_accuracy: 0.6444 - val_top_k_categorical_accuracy: 0.8667\n",
      "Epoch 7/20\n",
      "45/45 [==============================] - 0s 2ms/step - loss: 1.7756 - accuracy: 0.4936 - top_k_categorical_accuracy: 0.8157 - val_loss: 1.4603 - val_accuracy: 0.6444 - val_top_k_categorical_accuracy: 0.8667\n",
      "Epoch 8/20\n",
      "45/45 [==============================] - 0s 2ms/step - loss: 1.6225 - accuracy: 0.5673 - top_k_categorical_accuracy: 0.8620 - val_loss: 1.5036 - val_accuracy: 0.6444 - val_top_k_categorical_accuracy: 0.8667\n",
      "Epoch 9/20\n",
      "45/45 [==============================] - 0s 2ms/step - loss: 1.6831 - accuracy: 0.5158 - top_k_categorical_accuracy: 0.8695 - val_loss: 1.5412 - val_accuracy: 0.6444 - val_top_k_categorical_accuracy: 0.8667\n",
      "Epoch 10/20\n",
      "45/45 [==============================] - 0s 2ms/step - loss: 1.6919 - accuracy: 0.5173 - top_k_categorical_accuracy: 0.8486 - val_loss: 1.4005 - val_accuracy: 0.6444 - val_top_k_categorical_accuracy: 0.8667\n",
      "Epoch 11/20\n",
      "45/45 [==============================] - 0s 2ms/step - loss: 1.6986 - accuracy: 0.5228 - top_k_categorical_accuracy: 0.8635 - val_loss: 1.3669 - val_accuracy: 0.6444 - val_top_k_categorical_accuracy: 0.8667\n",
      "Epoch 12/20\n",
      "45/45 [==============================] - 0s 2ms/step - loss: 1.5621 - accuracy: 0.5696 - top_k_categorical_accuracy: 0.8945 - val_loss: 1.5371 - val_accuracy: 0.6444 - val_top_k_categorical_accuracy: 0.8667\n",
      "Epoch 13/20\n",
      "45/45 [==============================] - 0s 2ms/step - loss: 1.6534 - accuracy: 0.5296 - top_k_categorical_accuracy: 0.8411 - val_loss: 1.3802 - val_accuracy: 0.6444 - val_top_k_categorical_accuracy: 0.8667\n",
      "Epoch 14/20\n",
      "45/45 [==============================] - 0s 2ms/step - loss: 1.4331 - accuracy: 0.5695 - top_k_categorical_accuracy: 0.8853 - val_loss: 1.3567 - val_accuracy: 0.6444 - val_top_k_categorical_accuracy: 0.8667\n",
      "Epoch 15/20\n",
      "45/45 [==============================] - 0s 2ms/step - loss: 1.5830 - accuracy: 0.5122 - top_k_categorical_accuracy: 0.8371 - val_loss: 1.3807 - val_accuracy: 0.6444 - val_top_k_categorical_accuracy: 0.8667\n",
      "Epoch 16/20\n",
      "45/45 [==============================] - 0s 2ms/step - loss: 1.4172 - accuracy: 0.5785 - top_k_categorical_accuracy: 0.8866 - val_loss: 1.3459 - val_accuracy: 0.6444 - val_top_k_categorical_accuracy: 0.8667\n",
      "Epoch 17/20\n",
      "45/45 [==============================] - 0s 2ms/step - loss: 1.5079 - accuracy: 0.5585 - top_k_categorical_accuracy: 0.8654 - val_loss: 1.3735 - val_accuracy: 0.6667 - val_top_k_categorical_accuracy: 0.8889\n",
      "Epoch 18/20\n",
      "45/45 [==============================] - 0s 2ms/step - loss: 1.6218 - accuracy: 0.5137 - top_k_categorical_accuracy: 0.8477 - val_loss: 1.3454 - val_accuracy: 0.6667 - val_top_k_categorical_accuracy: 0.8667\n",
      "Epoch 19/20\n",
      "45/45 [==============================] - 0s 2ms/step - loss: 1.4476 - accuracy: 0.5547 - top_k_categorical_accuracy: 0.8773 - val_loss: 1.3458 - val_accuracy: 0.6667 - val_top_k_categorical_accuracy: 0.8667\n",
      "Epoch 20/20\n",
      "45/45 [==============================] - 0s 2ms/step - loss: 1.3801 - accuracy: 0.6041 - top_k_categorical_accuracy: 0.8976 - val_loss: 1.2937 - val_accuracy: 0.6667 - val_top_k_categorical_accuracy: 0.8889\n"
     ]
    },
    {
     "data": {
      "text/plain": [
       "<tensorflow.python.keras.callbacks.History at 0x24e3dd38518>"
      ]
     },
     "execution_count": 15,
     "metadata": {},
     "output_type": "execute_result"
    }
   ],
   "source": [
    "model.fit(pp_x_train, y_train, epochs=20, batch_size=8, validation_data=(pp_x_val, y_val))"
   ]
  },
  {
   "cell_type": "markdown",
   "metadata": {},
   "source": [
    "# Calculating accuracy of model on test data"
   ]
  },
  {
   "cell_type": "code",
   "execution_count": 16,
   "metadata": {},
   "outputs": [
    {
     "name": "stdout",
     "output_type": "stream",
     "text": [
      "2/2 [==============================] - 0s 994us/step - loss: 1.7642 - accuracy: 0.4783 - top_k_categorical_accuracy: 0.8261\n",
      "Accuracy: 47.83 & Top K Categorical : 82.61\n"
     ]
    }
   ],
   "source": [
    "_, accuracy, top_k_categorical = model.evaluate(pp_x_test, y_test)\n",
    "print('Accuracy: %.2f & Top K Categorical : %.2f' % (accuracy*100,top_k_categorical*100))"
   ]
  },
  {
   "cell_type": "code",
   "execution_count": null,
   "metadata": {},
   "outputs": [],
   "source": []
  }
 ],
 "metadata": {
  "kernelspec": {
   "display_name": "Python 3",
   "language": "python",
   "name": "python3"
  },
  "language_info": {
   "codemirror_mode": {
    "name": "ipython",
    "version": 3
   },
   "file_extension": ".py",
   "mimetype": "text/x-python",
   "name": "python",
   "nbconvert_exporter": "python",
   "pygments_lexer": "ipython3",
   "version": "3.6.5"
  }
 },
 "nbformat": 4,
 "nbformat_minor": 4
}
