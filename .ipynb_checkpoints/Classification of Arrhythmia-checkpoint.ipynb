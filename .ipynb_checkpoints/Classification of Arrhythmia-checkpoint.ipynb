{
 "cells": [
  {
   "cell_type": "markdown",
   "metadata": {},
   "source": [
    "# Loading and Preprocessing Data"
   ]
  },
  {
   "cell_type": "code",
   "execution_count": 84,
   "metadata": {},
   "outputs": [
    {
     "data": {
      "text/plain": [
       "280"
      ]
     },
     "execution_count": 84,
     "metadata": {},
     "output_type": "execute_result"
    }
   ],
   "source": [
    "import pandas as pd\n",
    "import numpy as np\n",
    "arrhythmia_data=pd.read_csv('./arrhythmia.csv')\n",
    "column_names=['age','gender','height','weight','qrs_duration','p-r_Interval','q-t_interval','t_interval','p_interval','QRS','T','P','QRST','J','Heart rate','Q_D1','R_D1','S_D1','R\\'_D1','S\\'_D1','NOD_D1','EOR_R_D1','EOD_R_D1','EOR_P_D1','EOD_P_D1','EOR_T_D1','EOD_T_D1','Q_D2','R_D2','S_D2','R\\'_D2','S\\'_D2','NOD_D2','EOR_R_D2','EOD_R_D2','EOR_P_D2','EOD_P_D2','EOR_T_D2','EOD_T_D2','Q_D3','R_D3','S_D3','R\\'_D3','S\\'_D3','NOD_D3','EOR_R_D3','EOD_R_D3','EOR_P_D3','EOD_P_D3','EOR_T_D3','EOD_T_D3','Q_AVR','R_AVR','S_AVR','R\\'_AVR','S\\'_AVR','NOD_AVR','EOR_R_AVR','EOD_R_AVR','EOR_P_AVR','EOD_P_AVR','EOR_T_AVR','EOD_T_AVR','Q_AVL','R_AVL','S_AVL','R\\'_AVL','S\\'_AVL','NOD_AVL','EOR_R_AVL','EOD_R_AVL','EOR_P_AVL','EOD_P_AVL','EOR_T_AVL','EOD_T_AVL','Q_AVF','R_AVF','S_AVF','R\\'_AVF','S\\'_AVF','NOD_AVF','EOR_R_AVF','EOD_R_AVF','EOR_P_AVF','EOD_P_AVF','EOR_T_AVF','EOD_T_AVF','Q_V1','R_V1','S_V1','R\\'_V1','S\\'_V1','NOD_V1','EOR_R_V1','EOD_R_V1','EOR_P_V1','EOD_P_V1','EOR_T_V1','EOD_T_V1','Q_V2','R_V2','S_V2','R\\'_V2','S\\'_V2','NOD_V2','EOR_R_V2','EOD_R_V2','EOR_P_V2','EOD_P_V2','EOR_T_V2','EOD_T_V2','Q_V3','R_V3','S_V3','R\\'_V3','S\\'_V3','NOD_V3','EOR_R_V3','EOD_R_V3','EOR_P_V3','EOD_P_V3','EOR_T_V3','EOD_T_V3','Q_V4','R_V4','S_V4','R\\'_V4','S\\'_V4','NOD_V4','EOR_R_V4','EOD_R_V4','EOR_P_V4','EOD_P_V4','EOR_T_V4','EOD_T_V4','Q_V5','R_V5','S_V5','R\\'_V5','S\\'_V5','NOD_V5','EOR_R_V5','EOD_R_V5','EOR_P_V5','EOD_P_V5','EOR_T_V5','EOD_T_V5','Q_V6','R_V6','S_V6','R\\'_V6','S\\'_V6','NOD_V6','EOR_R_V6','EOD_R_V6','EOR_P_V6','EOD_P_V6','EOR_T_V6','EOD_T_V6','A_JJ_D1','A_Q_D1','A_R_D1','A_S_D1','A_R\\'_D1','A_S\\'_D1','A_P_D1','A_T_D1','QRSA_D1','QRSTA_D1','A_JJ_D2','A_Q_D2','A_R_D2','A_S_D2','A_R\\'_D2','A_S\\'_D2','A_P_D2','A_T_D2','QRSA_D2','QRSTA_D2','A_JJ_D3','A_Q_D3','A_R_D3','A_S_D3','A_R\\'_D3','A_S\\'_D3','A_P_D3','A_T_D3','QRSA_D3','QRSTA_D3','A_JJ_AVR','A_Q_AVR','A_R_AVR','A_S_AVR','A_R\\'_AVR','A_S\\'_AVR','A_P_AVR','A_T_AVR','QRSA_AVR','QRSTA_AVR','A_JJ_AVL','A_Q_AVL','A_R_AVL','A_S_AVL','A_R\\'_AVL','A_S\\'_AVL','A_P_AVL','A_T_AVL','QRSA_AVL','QRSTA_AVL','A_JJ_AVF','A_Q_AVF','A_R_AVF','A_S_AVF','A_R\\'_AVF','A_S\\'_AVF','A_P_AVF','A_T_AVF','QRSA_AVF','QRSTA_AVF','A_JJ_V1','A_Q_V1','A_R_V1','A_S_V1','A_R\\'_V1','A_S\\'_V1','A_P_V1','A_T_V1','QRSA_V1','QRSTA_V1','A_JJ_V2','A_Q_V2','A_R_V2','A_S_V2','A_R\\'_V2','A_S\\'_V2','A_P_V2','A_T_V2','QRSA_V2','QRSTA_V2','A_JJ_V3','A_Q_V3','A_R_V3','A_S_V3','A_R\\'_V3','A_S\\'_V3','A_P_V3','A_T_V3','QRSA_V1','QRSTA_V3','A_JJ_V4','A_Q_V4','A_R_V4','A_S_V4','A_R\\'_V4','A_S\\'_V4','A_P_V4','A_T_V4','QRSA_V4','QRSTA_V4','A_JJ_V5','A_Q_V5','A_R_V5','A_S_V5','A_R\\'_V5','A_S\\'_V5','A_P_V5','A_T_V5','QRSA_V5','QRSTA_V5','A_JJ_V6','A_Q_V6','A_R_V6','A_S_V6','A_R\\'_V6','A_S\\'_V6','A_P_V6','A_T_V6','QRSA_V6','QRSTA_V6','Class']\n",
    "len(column_names)"
   ]
  },
  {
   "cell_type": "code",
   "execution_count": 85,
   "metadata": {},
   "outputs": [],
   "source": [
    "arrhythmia_data.columns=column_names\n",
    "arrhythmia_data[arrhythmia_data=='?']=np.NaN\n",
    "null_values=(arrhythmia_data.isna().sum()).sort_values(ascending=False)\n",
    "null_cols=null_values[null_values!=0].index\n",
    "arrhythmia_data=arrhythmia_data.astype(float)"
   ]
  },
  {
   "cell_type": "code",
   "execution_count": 86,
   "metadata": {},
   "outputs": [],
   "source": [
    "for col in null_cols:\n",
    "    mean_of_col= (arrhythmia_data[col][arrhythmia_data[col].notnull()]).astype(float).mean()\n",
    "    arrhythmia_data[col]=arrhythmia_data[col].fillna(mean_of_col,inplace= False)\n",
    " "
   ]
  },
  {
   "cell_type": "code",
   "execution_count": 87,
   "metadata": {},
   "outputs": [],
   "source": [
    "from keras.utils import to_categorical\n",
    "cols=arrhythmia_data.shape[1]\n",
    "rows=arrhythmia_data.shape[0]\n",
    "x_train=arrhythmia_data.iloc[:int(rows*.8),0:279]\n",
    "y_train=(arrhythmia_data.loc[:int(rows*.8)-1,'Class']).astype(int)\n",
    "x_test=arrhythmia_data.iloc[int(rows*.8):,0:279]\n",
    "y_test=(arrhythmia_data.loc[int(rows*.8):,'Class']).astype(int)\n",
    "x_train.to_numpy()\n",
    "y_train=to_categorical(y_train.to_numpy())\n",
    "x_test.to_numpy()\n",
    "y_test=to_categorical(y_test.to_numpy())"
   ]
  },
  {
   "cell_type": "code",
   "execution_count": 88,
   "metadata": {},
   "outputs": [],
   "source": [
    "from keras.models import Sequential\n",
    "from keras.layers import Dense\n"
   ]
  },
  {
   "cell_type": "code",
   "execution_count": 206,
   "metadata": {},
   "outputs": [],
   "source": [
    "model=Sequential()\n",
    "model.add(Dense(128,input_dim=279,activation='relu'))\n",
    "model.add(Dense(64,activation='relu'))\n",
    "model.add(Dense(32,activation='relu'))\n",
    "model.add(Dense(17,activation='softmax'))"
   ]
  },
  {
   "cell_type": "code",
   "execution_count": 207,
   "metadata": {},
   "outputs": [],
   "source": [
    "model.compile(loss='categorical_crossentropy', optimizer='adam', metrics=['accuracy'])"
   ]
  },
  {
   "cell_type": "code",
   "execution_count": 208,
   "metadata": {},
   "outputs": [
    {
     "name": "stdout",
     "output_type": "stream",
     "text": [
      "Epoch 1/12\n",
      "90/90 [==============================] - 0s 955us/step - loss: 5.3057 - accuracy: 0.3444\n",
      "Epoch 2/12\n",
      "90/90 [==============================] - 0s 1ms/step - loss: 1.6708 - accuracy: 0.5889\n",
      "Epoch 3/12\n",
      "90/90 [==============================] - 0s 1ms/step - loss: 1.4166 - accuracy: 0.6194\n",
      "Epoch 4/12\n",
      "90/90 [==============================] - 0s 988us/step - loss: 1.3267 - accuracy: 0.6194\n",
      "Epoch 5/12\n",
      "90/90 [==============================] - 0s 1ms/step - loss: 1.2131 - accuracy: 0.6611\n",
      "Epoch 6/12\n",
      "90/90 [==============================] - 0s 956us/step - loss: 1.2896 - accuracy: 0.6500\n",
      "Epoch 7/12\n",
      "90/90 [==============================] - 0s 1ms/step - loss: 1.0764 - accuracy: 0.6750\n",
      "Epoch 8/12\n",
      "90/90 [==============================] - 0s 1ms/step - loss: 1.0017 - accuracy: 0.6944\n",
      "Epoch 9/12\n",
      "90/90 [==============================] - 0s 1ms/step - loss: 0.9976 - accuracy: 0.7222\n",
      "Epoch 10/12\n",
      "90/90 [==============================] - 0s 1ms/step - loss: 0.9312 - accuracy: 0.7528\n",
      "Epoch 11/12\n",
      "90/90 [==============================] - 0s 1ms/step - loss: 0.8587 - accuracy: 0.7500\n",
      "Epoch 12/12\n",
      "90/90 [==============================] - 0s 1ms/step - loss: 0.8580 - accuracy: 0.7333\n"
     ]
    },
    {
     "data": {
      "text/plain": [
       "<tensorflow.python.keras.callbacks.History at 0x7f470c676940>"
      ]
     },
     "execution_count": 208,
     "metadata": {},
     "output_type": "execute_result"
    }
   ],
   "source": [
    "model.fit(x_train.to_numpy(), y_train, epochs=12, batch_size=4)"
   ]
  },
  {
   "cell_type": "code",
   "execution_count": 209,
   "metadata": {},
   "outputs": [
    {
     "name": "stdout",
     "output_type": "stream",
     "text": [
      "3/3 [==============================] - 0s 939us/step - loss: 1.6048 - accuracy: 0.7143\n",
      "Accuracy: 71.43\n"
     ]
    }
   ],
   "source": [
    "_, accuracy = model.evaluate(x_test, y_test)\n",
    "print('Accuracy: %.2f' % (accuracy*100))"
   ]
  },
  {
   "cell_type": "code",
   "execution_count": 136,
   "metadata": {},
   "outputs": [
    {
     "name": "stdout",
     "output_type": "stream",
     "text": [
      "      age  gender  height  weight  qrs_duration  p-r_Interval  q-t_interval  \\\n",
      "360  40.0     0.0   170.0    68.0          93.0         151.0         382.0   \n",
      "361  47.0     1.0   163.0    80.0          84.0         126.0         362.0   \n",
      "362  57.0     0.0   170.0    66.0         102.0         177.0         429.0   \n",
      "363  38.0     1.0   172.0    61.0          94.0         165.0         401.0   \n",
      "364  46.0     0.0   178.0    86.0          91.0         156.0         371.0   \n",
      "..    ...     ...     ...     ...           ...           ...           ...   \n",
      "446  53.0     1.0   160.0    70.0          80.0         199.0         382.0   \n",
      "447  37.0     0.0   190.0    85.0         100.0         137.0         361.0   \n",
      "448  36.0     0.0   166.0    68.0         108.0         176.0         365.0   \n",
      "449  32.0     1.0   155.0    55.0          93.0         106.0         386.0   \n",
      "450  78.0     1.0   160.0    70.0          79.0         127.0         364.0   \n",
      "\n",
      "     t_interval  p_interval   QRS  ...  A_JJ_V6  A_Q_V6  A_R_V6  A_S_V6  \\\n",
      "360       266.0       100.0  48.0  ...     -0.4     0.0     8.2     0.0   \n",
      "361       137.0        72.0   9.0  ...     -0.4     0.0     6.6    -1.5   \n",
      "362       163.0        86.0  62.0  ...      0.0     0.0    10.2    -2.0   \n",
      "363       149.0        97.0 -10.0  ...      0.0     0.0     5.2    -1.1   \n",
      "364       162.0        68.0  13.0  ...      0.0     0.0    11.3    -1.1   \n",
      "..          ...         ...   ...  ...      ...     ...     ...     ...   \n",
      "446       154.0       117.0 -37.0  ...      0.0     0.0     4.3    -5.0   \n",
      "447       201.0        73.0  86.0  ...     -0.5     0.0    15.6    -1.6   \n",
      "448       194.0       116.0 -85.0  ...      1.2     0.0    16.3   -28.6   \n",
      "449       218.0        63.0  54.0  ...      0.2    -0.4    12.0    -0.7   \n",
      "450       138.0        78.0  28.0  ...     -0.3     0.0    10.4    -1.8   \n",
      "\n",
      "     A_R'_V6  A_S'_V6  A_P_V6  A_T_V6  QRSA_V6  QRSTA_V6  \n",
      "360      0.0      0.0     0.8     1.5     24.6      42.0  \n",
      "361      0.0      0.0     0.5     0.2     11.5      13.1  \n",
      "362      0.0      0.0     0.6     2.3     16.0      38.0  \n",
      "363      0.0      0.0     0.5     2.0      9.4      27.0  \n",
      "364      0.0      0.0     0.3     2.3     29.2      49.9  \n",
      "..       ...      ...     ...     ...      ...       ...  \n",
      "446      0.0      0.0     0.7     0.6     -4.4      -0.5  \n",
      "447      0.0      0.0     0.4     2.4     38.0      62.4  \n",
      "448      0.0      0.0     1.5     1.0    -44.2     -33.2  \n",
      "449      0.0      0.0     0.5     2.4     25.0      46.6  \n",
      "450      0.0      0.0     0.5     1.6     21.3      32.8  \n",
      "\n",
      "[91 rows x 279 columns]\n"
     ]
    },
    {
     "data": {
      "text/plain": [
       "array([ 3,  1, 10,  1,  1,  2,  1,  2,  1,  9,  1,  1,  1,  1,  1,  2,  1,\n",
       "        1, 10,  1,  5,  1,  1,  1,  1,  1,  1,  9,  4,  1,  1,  1,  7,  2,\n",
       "        9,  1, 10,  3,  5,  1,  1,  1, 16,  1,  1,  1,  1,  2,  1,  1,  1,\n",
       "        1,  1,  1,  1,  1,  1,  1,  1,  2,  1, 16,  1,  9,  1,  1, 10,  1,\n",
       "       10, 10,  1, 10,  3,  1,  1,  1,  1,  1,  1,  1,  1,  1, 10,  1,  1,\n",
       "       16,  1,  1,  2,  1,  1])"
      ]
     },
     "execution_count": 136,
     "metadata": {},
     "output_type": "execute_result"
    }
   ],
   "source": [
    "print(x_test)\n",
    "model.predict_classes(x_test)"
   ]
  },
  {
   "cell_type": "code",
   "execution_count": 83,
   "metadata": {},
   "outputs": [
    {
     "data": {
      "text/plain": [
       "1.0"
      ]
     },
     "execution_count": 83,
     "metadata": {},
     "output_type": "execute_result"
    }
   ],
   "source": []
  },
  {
   "cell_type": "code",
   "execution_count": null,
   "metadata": {},
   "outputs": [],
   "source": []
  }
 ],
 "metadata": {
  "kernelspec": {
   "display_name": "Python 3",
   "language": "python",
   "name": "python3"
  },
  "language_info": {
   "codemirror_mode": {
    "name": "ipython",
    "version": 3
   },
   "file_extension": ".py",
   "mimetype": "text/x-python",
   "name": "python",
   "nbconvert_exporter": "python",
   "pygments_lexer": "ipython3",
   "version": "3.8.3"
  }
 },
 "nbformat": 4,
 "nbformat_minor": 4
}
