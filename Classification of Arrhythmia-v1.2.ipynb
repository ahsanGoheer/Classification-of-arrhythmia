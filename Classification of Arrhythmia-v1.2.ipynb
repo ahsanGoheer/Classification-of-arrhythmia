{
 "cells": [
  {
   "cell_type": "markdown",
   "metadata": {},
   "source": [
    "# Importing libraries"
   ]
  },
  {
   "cell_type": "code",
   "execution_count": 1,
   "metadata": {},
   "outputs": [],
   "source": [
    "import numpy as np\n",
    "import pandas as pd\n",
    "\n",
    "from sklearn.utils import shuffle\n",
    "from sklearn.preprocessing import MinMaxScaler\n",
    "from sklearn.model_selection import train_test_split\n",
    "\n",
    "from keras.layers import Dense\n",
    "from keras.models import Sequential\n",
    "from keras.utils import to_categorical"
   ]
  },
  {
   "cell_type": "markdown",
   "metadata": {},
   "source": [
    "# Loading dataset as pandas dataframe"
   ]
  },
  {
   "cell_type": "code",
   "execution_count": 2,
   "metadata": {},
   "outputs": [],
   "source": [
    "arrhythmia_data=pd.read_csv('./arrhythmia.csv')"
   ]
  },
  {
   "cell_type": "markdown",
   "metadata": {},
   "source": [
    "# Assigning names to columns"
   ]
  },
  {
   "cell_type": "code",
   "execution_count": 3,
   "metadata": {},
   "outputs": [],
   "source": [
    "column_names=['age','gender','height','weight','qrs_duration','p-r_Interval','q-t_interval','t_interval','p_interval','QRS','T','P','QRST','J','Heart rate','Q_D1','R_D1','S_D1','R\\'_D1','S\\'_D1','NOD_D1','EOR_R_D1','EOD_R_D1','EOR_P_D1','EOD_P_D1','EOR_T_D1','EOD_T_D1','Q_D2','R_D2','S_D2','R\\'_D2','S\\'_D2','NOD_D2','EOR_R_D2','EOD_R_D2','EOR_P_D2','EOD_P_D2','EOR_T_D2','EOD_T_D2','Q_D3','R_D3','S_D3','R\\'_D3','S\\'_D3','NOD_D3','EOR_R_D3','EOD_R_D3','EOR_P_D3','EOD_P_D3','EOR_T_D3','EOD_T_D3','Q_AVR','R_AVR','S_AVR','R\\'_AVR','S\\'_AVR','NOD_AVR','EOR_R_AVR','EOD_R_AVR','EOR_P_AVR','EOD_P_AVR','EOR_T_AVR','EOD_T_AVR','Q_AVL','R_AVL','S_AVL','R\\'_AVL','S\\'_AVL','NOD_AVL','EOR_R_AVL','EOD_R_AVL','EOR_P_AVL','EOD_P_AVL','EOR_T_AVL','EOD_T_AVL','Q_AVF','R_AVF','S_AVF','R\\'_AVF','S\\'_AVF','NOD_AVF','EOR_R_AVF','EOD_R_AVF','EOR_P_AVF','EOD_P_AVF','EOR_T_AVF','EOD_T_AVF','Q_V1','R_V1','S_V1','R\\'_V1','S\\'_V1','NOD_V1','EOR_R_V1','EOD_R_V1','EOR_P_V1','EOD_P_V1','EOR_T_V1','EOD_T_V1','Q_V2','R_V2','S_V2','R\\'_V2','S\\'_V2','NOD_V2','EOR_R_V2','EOD_R_V2','EOR_P_V2','EOD_P_V2','EOR_T_V2','EOD_T_V2','Q_V3','R_V3','S_V3','R\\'_V3','S\\'_V3','NOD_V3','EOR_R_V3','EOD_R_V3','EOR_P_V3','EOD_P_V3','EOR_T_V3','EOD_T_V3','Q_V4','R_V4','S_V4','R\\'_V4','S\\'_V4','NOD_V4','EOR_R_V4','EOD_R_V4','EOR_P_V4','EOD_P_V4','EOR_T_V4','EOD_T_V4','Q_V5','R_V5','S_V5','R\\'_V5','S\\'_V5','NOD_V5','EOR_R_V5','EOD_R_V5','EOR_P_V5','EOD_P_V5','EOR_T_V5','EOD_T_V5','Q_V6','R_V6','S_V6','R\\'_V6','S\\'_V6','NOD_V6','EOR_R_V6','EOD_R_V6','EOR_P_V6','EOD_P_V6','EOR_T_V6','EOD_T_V6','A_JJ_D1','A_Q_D1','A_R_D1','A_S_D1','A_R\\'_D1','A_S\\'_D1','A_P_D1','A_T_D1','QRSA_D1','QRSTA_D1','A_JJ_D2','A_Q_D2','A_R_D2','A_S_D2','A_R\\'_D2','A_S\\'_D2','A_P_D2','A_T_D2','QRSA_D2','QRSTA_D2','A_JJ_D3','A_Q_D3','A_R_D3','A_S_D3','A_R\\'_D3','A_S\\'_D3','A_P_D3','A_T_D3','QRSA_D3','QRSTA_D3','A_JJ_AVR','A_Q_AVR','A_R_AVR','A_S_AVR','A_R\\'_AVR','A_S\\'_AVR','A_P_AVR','A_T_AVR','QRSA_AVR','QRSTA_AVR','A_JJ_AVL','A_Q_AVL','A_R_AVL','A_S_AVL','A_R\\'_AVL','A_S\\'_AVL','A_P_AVL','A_T_AVL','QRSA_AVL','QRSTA_AVL','A_JJ_AVF','A_Q_AVF','A_R_AVF','A_S_AVF','A_R\\'_AVF','A_S\\'_AVF','A_P_AVF','A_T_AVF','QRSA_AVF','QRSTA_AVF','A_JJ_V1','A_Q_V1','A_R_V1','A_S_V1','A_R\\'_V1','A_S\\'_V1','A_P_V1','A_T_V1','QRSA_V1','QRSTA_V1','A_JJ_V2','A_Q_V2','A_R_V2','A_S_V2','A_R\\'_V2','A_S\\'_V2','A_P_V2','A_T_V2','QRSA_V2','QRSTA_V2','A_JJ_V3','A_Q_V3','A_R_V3','A_S_V3','A_R\\'_V3','A_S\\'_V3','A_P_V3','A_T_V3','QRSA_V1','QRSTA_V3','A_JJ_V4','A_Q_V4','A_R_V4','A_S_V4','A_R\\'_V4','A_S\\'_V4','A_P_V4','A_T_V4','QRSA_V4','QRSTA_V4','A_JJ_V5','A_Q_V5','A_R_V5','A_S_V5','A_R\\'_V5','A_S\\'_V5','A_P_V5','A_T_V5','QRSA_V5','QRSTA_V5','A_JJ_V6','A_Q_V6','A_R_V6','A_S_V6','A_R\\'_V6','A_S\\'_V6','A_P_V6','A_T_V6','QRSA_V6','QRSTA_V6','Class']\n",
    "arrhythmia_data.columns=column_names"
   ]
  },
  {
   "cell_type": "markdown",
   "metadata": {},
   "source": [
    "# Replacing '?' with np.nan (not a number)"
   ]
  },
  {
   "cell_type": "code",
   "execution_count": 4,
   "metadata": {},
   "outputs": [],
   "source": [
    "arrhythmia_data.replace({'?': np.nan}, regex=False,inplace=True) #https://stackoverflow.com/questions/50894580/how-to-replace-question-mark-in-value-of-a-panda-frame-as-missing-value/57800409#57800409\n",
    "null_values=(arrhythmia_data.isna().sum()).sort_values(ascending=False)\n",
    "null_cols=null_values[null_values!=0].index\n",
    "arrhythmia_data=arrhythmia_data.astype(float)"
   ]
  },
  {
   "cell_type": "markdown",
   "metadata": {},
   "source": [
    "# Preprocess to replace missing values with the mean of the column "
   ]
  },
  {
   "cell_type": "code",
   "execution_count": 5,
   "metadata": {},
   "outputs": [],
   "source": [
    "for col in null_cols:\n",
    "    mean_of_col= (arrhythmia_data[col][arrhythmia_data[col].notnull()]).astype(float).mean()\n",
    "    arrhythmia_data[col]=arrhythmia_data[col].fillna(mean_of_col,inplace= False)"
   ]
  },
  {
   "cell_type": "markdown",
   "metadata": {},
   "source": [
    "# Shuffle to randomize data"
   ]
  },
  {
   "cell_type": "code",
   "execution_count": 6,
   "metadata": {},
   "outputs": [],
   "source": [
    "arrhythmia_data = shuffle(arrhythmia_data)"
   ]
  },
  {
   "cell_type": "markdown",
   "metadata": {},
   "source": [
    "# Applying train, validation & test split with ratios of 80, 10, 10 respectively"
   ]
  },
  {
   "cell_type": "code",
   "execution_count": 7,
   "metadata": {},
   "outputs": [
    {
     "name": "stdout",
     "output_type": "stream",
     "text": [
      "(360, 279) (45, 279) (46, 279)\n"
     ]
    }
   ],
   "source": [
    "X = arrhythmia_data.iloc[:, :-1].values\n",
    "y = arrhythmia_data.iloc[:, -1].values\n",
    "\n",
    "x_train, x_test, y_train, y_test = train_test_split(X, y, test_size=0.2)\n",
    "x_val, x_test, y_val, y_test = train_test_split(x_test, y_test, test_size=0.5)\n",
    "\n",
    "temp_y_test = y_test.copy()\n",
    "\n",
    "print(x_train.shape, x_val.shape, x_test.shape)"
   ]
  },
  {
   "cell_type": "markdown",
   "metadata": {},
   "source": [
    "# Converting numeric classes into categorical data"
   ]
  },
  {
   "cell_type": "code",
   "execution_count": 8,
   "metadata": {},
   "outputs": [],
   "source": [
    "y_train = to_categorical(y_train)\n",
    "y_val = to_categorical(y_val)\n",
    "y_test = to_categorical(y_test)"
   ]
  },
  {
   "cell_type": "markdown",
   "metadata": {},
   "source": [
    "# Avoiding dummy variable trap"
   ]
  },
  {
   "cell_type": "code",
   "execution_count": 9,
   "metadata": {},
   "outputs": [],
   "source": [
    "y_train = y_train[:,1:]\n",
    "y_val = y_val[:,1:]\n",
    "y_test = y_test[:,1:]"
   ]
  },
  {
   "cell_type": "markdown",
   "metadata": {},
   "source": [
    "# Applying Min-Max-Normalization"
   ]
  },
  {
   "cell_type": "code",
   "execution_count": 10,
   "metadata": {},
   "outputs": [],
   "source": [
    "mms_x = MinMaxScaler()\n",
    "\n",
    "pp_x_train = mms_x.fit_transform(x_train)\n",
    "pp_x_val = mms_x.transform(x_val)\n",
    "pp_x_test = mms_x.transform(x_test)"
   ]
  },
  {
   "cell_type": "code",
   "execution_count": 11,
   "metadata": {},
   "outputs": [
    {
     "name": "stdout",
     "output_type": "stream",
     "text": [
      "(360, 279) (45, 279) (46, 279)\n"
     ]
    }
   ],
   "source": [
    "print(pp_x_train.shape, pp_x_val.shape, pp_x_test.shape)"
   ]
  },
  {
   "cell_type": "markdown",
   "metadata": {},
   "source": [
    "# Creating multilayer perceptron in Keras"
   ]
  },
  {
   "cell_type": "code",
   "execution_count": 12,
   "metadata": {},
   "outputs": [],
   "source": [
    "model=Sequential()\n",
    "model.add(Dense(128,input_dim=(279),activation='relu'))\n",
    "model.add(Dense(64,activation='relu'))\n",
    "model.add(Dense(32,activation='relu'))\n",
    "model.add(Dense(16,activation='softmax'))"
   ]
  },
  {
   "cell_type": "markdown",
   "metadata": {},
   "source": [
    "# Loss function, optimizer and accuracy method"
   ]
  },
  {
   "cell_type": "code",
   "execution_count": 13,
   "metadata": {},
   "outputs": [],
   "source": [
    "model.compile(loss='categorical_crossentropy', optimizer='adam', metrics=['accuracy','top_k_categorical_accuracy'])"
   ]
  },
  {
   "cell_type": "markdown",
   "metadata": {},
   "source": [
    "# Fitting the model using train and validation data"
   ]
  },
  {
   "cell_type": "code",
   "execution_count": 14,
   "metadata": {},
   "outputs": [
    {
     "name": "stdout",
     "output_type": "stream",
     "text": [
      "Epoch 1/15\n",
      "45/45 [==============================] - 3s 39ms/step - loss: 2.1217 - accuracy: 0.5239 - top_k_categorical_accuracy: 0.7341 - val_loss: 1.9014 - val_accuracy: 0.4889 - val_top_k_categorical_accuracy: 0.8444\n",
      "Epoch 2/15\n",
      "45/45 [==============================] - 0s 4ms/step - loss: 1.6391 - accuracy: 0.5711 - top_k_categorical_accuracy: 0.8424 - val_loss: 1.7969 - val_accuracy: 0.4889 - val_top_k_categorical_accuracy: 0.8444\n",
      "Epoch 3/15\n",
      "45/45 [==============================] - 0s 4ms/step - loss: 1.5090 - accuracy: 0.5723 - top_k_categorical_accuracy: 0.8585 - val_loss: 1.7846 - val_accuracy: 0.4889 - val_top_k_categorical_accuracy: 0.8444\n",
      "Epoch 4/15\n",
      "45/45 [==============================] - 0s 4ms/step - loss: 1.4289 - accuracy: 0.5717 - top_k_categorical_accuracy: 0.9278 - val_loss: 1.7091 - val_accuracy: 0.5333 - val_top_k_categorical_accuracy: 0.8222\n",
      "Epoch 5/15\n",
      "45/45 [==============================] - 0s 4ms/step - loss: 1.3591 - accuracy: 0.6265 - top_k_categorical_accuracy: 0.9281 - val_loss: 1.7051 - val_accuracy: 0.5111 - val_top_k_categorical_accuracy: 0.8889\n",
      "Epoch 6/15\n",
      "45/45 [==============================] - 0s 4ms/step - loss: 1.1859 - accuracy: 0.6502 - top_k_categorical_accuracy: 0.9358 - val_loss: 1.6066 - val_accuracy: 0.5556 - val_top_k_categorical_accuracy: 0.8444\n",
      "Epoch 7/15\n",
      "45/45 [==============================] - 0s 4ms/step - loss: 1.1247 - accuracy: 0.6937 - top_k_categorical_accuracy: 0.9320 - val_loss: 1.5552 - val_accuracy: 0.6000 - val_top_k_categorical_accuracy: 0.8222\n",
      "Epoch 8/15\n",
      "45/45 [==============================] - 0s 4ms/step - loss: 1.1709 - accuracy: 0.6879 - top_k_categorical_accuracy: 0.9469 - val_loss: 1.6601 - val_accuracy: 0.5556 - val_top_k_categorical_accuracy: 0.8889\n",
      "Epoch 9/15\n",
      "45/45 [==============================] - 0s 4ms/step - loss: 0.9453 - accuracy: 0.7421 - top_k_categorical_accuracy: 0.9524 - val_loss: 1.6680 - val_accuracy: 0.5556 - val_top_k_categorical_accuracy: 0.9333\n",
      "Epoch 10/15\n",
      "45/45 [==============================] - 0s 4ms/step - loss: 1.1610 - accuracy: 0.6826 - top_k_categorical_accuracy: 0.9277 - val_loss: 1.4866 - val_accuracy: 0.5778 - val_top_k_categorical_accuracy: 0.9111\n",
      "Epoch 11/15\n",
      "45/45 [==============================] - 0s 4ms/step - loss: 0.9909 - accuracy: 0.7198 - top_k_categorical_accuracy: 0.9478 - val_loss: 1.6758 - val_accuracy: 0.5556 - val_top_k_categorical_accuracy: 0.9333\n",
      "Epoch 12/15\n",
      "45/45 [==============================] - 0s 4ms/step - loss: 0.8881 - accuracy: 0.7568 - top_k_categorical_accuracy: 0.9477 - val_loss: 1.5232 - val_accuracy: 0.6000 - val_top_k_categorical_accuracy: 0.8667\n",
      "Epoch 13/15\n",
      "45/45 [==============================] - 0s 4ms/step - loss: 0.8616 - accuracy: 0.7618 - top_k_categorical_accuracy: 0.9498 - val_loss: 1.5092 - val_accuracy: 0.6000 - val_top_k_categorical_accuracy: 0.9333\n",
      "Epoch 14/15\n",
      "45/45 [==============================] - 0s 4ms/step - loss: 0.8217 - accuracy: 0.7662 - top_k_categorical_accuracy: 0.9582 - val_loss: 1.6899 - val_accuracy: 0.5556 - val_top_k_categorical_accuracy: 0.9333\n",
      "Epoch 15/15\n",
      "45/45 [==============================] - 0s 4ms/step - loss: 0.8049 - accuracy: 0.7840 - top_k_categorical_accuracy: 0.9750 - val_loss: 1.5521 - val_accuracy: 0.6222 - val_top_k_categorical_accuracy: 0.9111\n"
     ]
    },
    {
     "data": {
      "text/plain": [
       "<tensorflow.python.keras.callbacks.History at 0x2bc2a524710>"
      ]
     },
     "execution_count": 14,
     "metadata": {},
     "output_type": "execute_result"
    }
   ],
   "source": [
    "model.fit(pp_x_train, y_train, epochs=15, batch_size=8, validation_data=(pp_x_val, y_val))"
   ]
  },
  {
   "cell_type": "markdown",
   "metadata": {},
   "source": [
    "# Calculating accuracy of model on test data"
   ]
  },
  {
   "cell_type": "code",
   "execution_count": 18,
   "metadata": {},
   "outputs": [
    {
     "name": "stdout",
     "output_type": "stream",
     "text": [
      "2/2 [==============================] - 0s 19ms/step - loss: 1.1331 - accuracy: 0.6739 - top_k_categorical_accuracy: 0.9783\n",
      "Accuracy: 67.39 & Top K Categorical : 97.83\n"
     ]
    }
   ],
   "source": [
    "_, accuracy, top_k_categorical = model.evaluate(pp_x_test, y_test)\n",
    "print('Accuracy: %.2f & Top K Categorical : %.2f' % (accuracy*100,top_k_categorical*100))"
   ]
  },
  {
   "cell_type": "code",
   "execution_count": null,
   "metadata": {},
   "outputs": [],
   "source": []
  }
 ],
 "metadata": {
  "kernelspec": {
   "display_name": "Python 3",
   "language": "python",
   "name": "python3"
  },
  "language_info": {
   "codemirror_mode": {
    "name": "ipython",
    "version": 3
   },
   "file_extension": ".py",
   "mimetype": "text/x-python",
   "name": "python",
   "nbconvert_exporter": "python",
   "pygments_lexer": "ipython3",
   "version": "3.6.5"
  }
 },
 "nbformat": 4,
 "nbformat_minor": 4
}
